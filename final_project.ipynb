{
  "nbformat": 4,
  "nbformat_minor": 0,
  "metadata": {
    "colab": {
      "provenance": [],
      "toc_visible": true,
      "authorship_tag": "ABX9TyOo2LokNk3/hEKxVqBw22Ob",
      "include_colab_link": true
    },
    "kernelspec": {
      "name": "python3",
      "display_name": "Python 3"
    },
    "language_info": {
      "name": "python"
    }
  },
  "cells": [
    {
      "cell_type": "markdown",
      "metadata": {
        "id": "view-in-github",
        "colab_type": "text"
      },
      "source": [
        "<a href=\"https://colab.research.google.com/github/alhassan-alshareef/masar-curse/blob/main/final_project.ipynb\" target=\"_parent\"><img src=\"https://colab.research.google.com/assets/colab-badge.svg\" alt=\"Open In Colab\"/></a>"
      ]
    },
    {
      "cell_type": "markdown",
      "source": [
        "# part1"
      ],
      "metadata": {
        "id": "m4A-7tn4DOWx"
      }
    },
    {
      "cell_type": "markdown",
      "source": [
        "# Vehicle Sales Data"
      ],
      "metadata": {
        "id": "a1LCmSEv5tWs"
      }
    },
    {
      "cell_type": "markdown",
      "source": [
        "# Data Description"
      ],
      "metadata": {
        "id": "3AR1ksV55yd1"
      }
    },
    {
      "cell_type": "markdown",
      "source": [
        "The \"Vehicle Sales and Market Trends Dataset\" provides a comprehensive collection of information pertaining to the sales transactions of various vehicles. This dataset encompasses details such as the year, make, model, trim, body type, transmission type, VIN (Vehicle Identification Number), state of registration, condition rating, odometer reading, exterior and interior colors, seller information, Manheim Market Report (MMR) values, selling prices, and sale dates.\n",
        "\n",
        "Key Features:\n",
        "\n",
        "Vehicle Details: Includes specific information about each vehicle, such as its\n",
        "make, model, trim, and manufacturing year.\n",
        "\n",
        "Transaction Information: Provides insights into the sales transactions,\n",
        "\n",
        "including selling prices and sale dates.\n",
        "\n",
        "Market Trends: MMR values offer an estimate of the market value of each vehicle, allowing for analysis of market trends and fluctuations.\n",
        "\n",
        "Condition and Mileage: Contains data on the condition of the vehicles as well as their odometer readings, enabling analysis of how these factors influence selling prices.\n",
        "\n",
        "Potential Use Cases:\n",
        "\n",
        "Market Analysis: Researchers and analysts can utilize this dataset to study trends in the automotive market, including pricing fluctuations based on factors such as vehicle condition and mileage.\n",
        "\n",
        "Predictive Modeling: Data scientists can employ this dataset to develop predictive models for estimating vehicle prices based on various attributes.\n",
        "\n",
        "Business Insights: Automotive industry professionals, dealerships, and financial institutions can derive insights into consumer preferences, market demand, and pricing strategies.\n",
        "\n",
        "Format: The dataset is typically presented in tabular format (e.g., CSV) with rows representing individual vehicle sales transactions and columns representing different attributes associated with each transaction.\n",
        "\n",
        "Data Integrity: Efforts have been made to ensure the accuracy and reliability of the data; however, users are encouraged to perform their own validation and verification processes.\n",
        "\n",
        "Update Frequency: The dataset may be periodically updated to include new sales transactions and market data, providing fresh insights into ongoing trends in the automotive industry."
      ],
      "metadata": {
        "id": "wvpZi_i66Hug"
      }
    },
    {
      "cell_type": "markdown",
      "source": [
        "### **1: Data cleaning**"
      ],
      "metadata": {
        "id": "oQfftdjDSwSa"
      }
    },
    {
      "cell_type": "code",
      "source": [
        "import pandas as pd\n",
        "data = pd.read_csv('/content/car_prices.csv')\n",
        "data"
      ],
      "metadata": {
        "colab": {
          "base_uri": "https://localhost:8080/",
          "height": 754
        },
        "id": "rruM1_2L64Wu",
        "outputId": "3d9c9e7e-6a14-481f-862b-991abd01d26e"
      },
      "execution_count": null,
      "outputs": [
        {
          "output_type": "execute_result",
          "data": {
            "text/plain": [
              "      year           make                model        trim         body  \\\n",
              "0     2015            Kia              Sorento          LX          SUV   \n",
              "1     2015            Kia              Sorento          LX          SUV   \n",
              "2     2014            BMW             3 Series  328i SULEV        Sedan   \n",
              "3     2015          Volvo                  S60          T5        Sedan   \n",
              "4     2014            BMW  6 Series Gran Coupe        650i        Sedan   \n",
              "...    ...            ...                  ...         ...          ...   \n",
              "6571  2012  Mercedes-Benz              E-Class        E550  Convertible   \n",
              "6572  2012  Mercedes-Benz              E-Class        E550  Convertible   \n",
              "6573  2012  Mercedes-Benz              C-Class        C250        Coupe   \n",
              "6574  2012  Mercedes-Benz              C-Class  C250 Sport        Sedan   \n",
              "6575  2012  Mercedes-Benz              C-Class  C250 Sport        Sedan   \n",
              "\n",
              "     transmission                vin state  condition  odometer  color  \\\n",
              "0       automatic  5xyktca69fg566472    ca        5.0   16639.0  white   \n",
              "1       automatic  5xyktca69fg561319    ca        5.0    9393.0  white   \n",
              "2       automatic  wba3c1c51ek116351    ca       45.0    1331.0   gray   \n",
              "3       automatic  yv1612tb4f1310987    ca       41.0   14282.0  white   \n",
              "4       automatic  wba6b2c57ed129731    ca       43.0    2641.0   gray   \n",
              "...           ...                ...   ...        ...       ...    ...   \n",
              "6571    automatic  wddkk7df7cf179378    ca       36.0   19669.0      —   \n",
              "6572    automatic  wddkk7df1cf174063    ca       39.0    9707.0   gray   \n",
              "6573    automatic  wddgj4hb4cf801272    ca       32.0   26368.0  white   \n",
              "6574    automatic  wddgf4hb0cr216186    ca       42.0   44826.0      —   \n",
              "6575    automatic  wddgf4hb9ca620098    ca       39.0   30281.0  white   \n",
              "\n",
              "     interior                                  seller    mmr  sellingprice  \\\n",
              "0       black                 kia motors america  inc  20500         21500   \n",
              "1       beige                 kia motors america  inc  20800         21500   \n",
              "2       black  financial services remarketing (lease)  31900         30000   \n",
              "3       black                 volvo na rep/world omni  27500         27750   \n",
              "4       black  financial services remarketing (lease)  66000         67000   \n",
              "...       ...                                     ...    ...           ...   \n",
              "6571    black        mercedes-benz financial services  44800         43500   \n",
              "6572    black        mercedes-benz financial services  46600         42750   \n",
              "6573      red  mercedes-benz finc wholesale advantage  23800         24750   \n",
              "6574    black                   the hertz corporation  20600         19600   \n",
              "6575     gray        mercedes-benz financial services  22000         21750   \n",
              "\n",
              "                                     saledate  \n",
              "0     Tue Dec 16 2014 12:30:00 GMT-0800 (PST)  \n",
              "1     Tue Dec 16 2014 12:30:00 GMT-0800 (PST)  \n",
              "2     Thu Jan 15 2015 04:30:00 GMT-0800 (PST)  \n",
              "3     Thu Jan 29 2015 04:30:00 GMT-0800 (PST)  \n",
              "4     Thu Dec 18 2014 12:30:00 GMT-0800 (PST)  \n",
              "...                                       ...  \n",
              "6571  Thu Dec 18 2014 12:30:00 GMT-0800 (PST)  \n",
              "6572  Thu Dec 18 2014 12:30:00 GMT-0800 (PST)  \n",
              "6573  Thu Dec 18 2014 12:30:00 GMT-0800 (PST)  \n",
              "6574  Tue Jan 06 2015 04:30:00 GMT-0800 (PST)  \n",
              "6575              Thu Dec 18 2014 12:30:00 GM  \n",
              "\n",
              "[6576 rows x 16 columns]"
            ],
            "text/html": [
              "\n",
              "  <div id=\"df-5331fa15-24e4-4c62-9f4e-53ea89c7660e\" class=\"colab-df-container\">\n",
              "    <div>\n",
              "<style scoped>\n",
              "    .dataframe tbody tr th:only-of-type {\n",
              "        vertical-align: middle;\n",
              "    }\n",
              "\n",
              "    .dataframe tbody tr th {\n",
              "        vertical-align: top;\n",
              "    }\n",
              "\n",
              "    .dataframe thead th {\n",
              "        text-align: right;\n",
              "    }\n",
              "</style>\n",
              "<table border=\"1\" class=\"dataframe\">\n",
              "  <thead>\n",
              "    <tr style=\"text-align: right;\">\n",
              "      <th></th>\n",
              "      <th>year</th>\n",
              "      <th>make</th>\n",
              "      <th>model</th>\n",
              "      <th>trim</th>\n",
              "      <th>body</th>\n",
              "      <th>transmission</th>\n",
              "      <th>vin</th>\n",
              "      <th>state</th>\n",
              "      <th>condition</th>\n",
              "      <th>odometer</th>\n",
              "      <th>color</th>\n",
              "      <th>interior</th>\n",
              "      <th>seller</th>\n",
              "      <th>mmr</th>\n",
              "      <th>sellingprice</th>\n",
              "      <th>saledate</th>\n",
              "    </tr>\n",
              "  </thead>\n",
              "  <tbody>\n",
              "    <tr>\n",
              "      <th>0</th>\n",
              "      <td>2015</td>\n",
              "      <td>Kia</td>\n",
              "      <td>Sorento</td>\n",
              "      <td>LX</td>\n",
              "      <td>SUV</td>\n",
              "      <td>automatic</td>\n",
              "      <td>5xyktca69fg566472</td>\n",
              "      <td>ca</td>\n",
              "      <td>5.0</td>\n",
              "      <td>16639.0</td>\n",
              "      <td>white</td>\n",
              "      <td>black</td>\n",
              "      <td>kia motors america  inc</td>\n",
              "      <td>20500</td>\n",
              "      <td>21500</td>\n",
              "      <td>Tue Dec 16 2014 12:30:00 GMT-0800 (PST)</td>\n",
              "    </tr>\n",
              "    <tr>\n",
              "      <th>1</th>\n",
              "      <td>2015</td>\n",
              "      <td>Kia</td>\n",
              "      <td>Sorento</td>\n",
              "      <td>LX</td>\n",
              "      <td>SUV</td>\n",
              "      <td>automatic</td>\n",
              "      <td>5xyktca69fg561319</td>\n",
              "      <td>ca</td>\n",
              "      <td>5.0</td>\n",
              "      <td>9393.0</td>\n",
              "      <td>white</td>\n",
              "      <td>beige</td>\n",
              "      <td>kia motors america  inc</td>\n",
              "      <td>20800</td>\n",
              "      <td>21500</td>\n",
              "      <td>Tue Dec 16 2014 12:30:00 GMT-0800 (PST)</td>\n",
              "    </tr>\n",
              "    <tr>\n",
              "      <th>2</th>\n",
              "      <td>2014</td>\n",
              "      <td>BMW</td>\n",
              "      <td>3 Series</td>\n",
              "      <td>328i SULEV</td>\n",
              "      <td>Sedan</td>\n",
              "      <td>automatic</td>\n",
              "      <td>wba3c1c51ek116351</td>\n",
              "      <td>ca</td>\n",
              "      <td>45.0</td>\n",
              "      <td>1331.0</td>\n",
              "      <td>gray</td>\n",
              "      <td>black</td>\n",
              "      <td>financial services remarketing (lease)</td>\n",
              "      <td>31900</td>\n",
              "      <td>30000</td>\n",
              "      <td>Thu Jan 15 2015 04:30:00 GMT-0800 (PST)</td>\n",
              "    </tr>\n",
              "    <tr>\n",
              "      <th>3</th>\n",
              "      <td>2015</td>\n",
              "      <td>Volvo</td>\n",
              "      <td>S60</td>\n",
              "      <td>T5</td>\n",
              "      <td>Sedan</td>\n",
              "      <td>automatic</td>\n",
              "      <td>yv1612tb4f1310987</td>\n",
              "      <td>ca</td>\n",
              "      <td>41.0</td>\n",
              "      <td>14282.0</td>\n",
              "      <td>white</td>\n",
              "      <td>black</td>\n",
              "      <td>volvo na rep/world omni</td>\n",
              "      <td>27500</td>\n",
              "      <td>27750</td>\n",
              "      <td>Thu Jan 29 2015 04:30:00 GMT-0800 (PST)</td>\n",
              "    </tr>\n",
              "    <tr>\n",
              "      <th>4</th>\n",
              "      <td>2014</td>\n",
              "      <td>BMW</td>\n",
              "      <td>6 Series Gran Coupe</td>\n",
              "      <td>650i</td>\n",
              "      <td>Sedan</td>\n",
              "      <td>automatic</td>\n",
              "      <td>wba6b2c57ed129731</td>\n",
              "      <td>ca</td>\n",
              "      <td>43.0</td>\n",
              "      <td>2641.0</td>\n",
              "      <td>gray</td>\n",
              "      <td>black</td>\n",
              "      <td>financial services remarketing (lease)</td>\n",
              "      <td>66000</td>\n",
              "      <td>67000</td>\n",
              "      <td>Thu Dec 18 2014 12:30:00 GMT-0800 (PST)</td>\n",
              "    </tr>\n",
              "    <tr>\n",
              "      <th>...</th>\n",
              "      <td>...</td>\n",
              "      <td>...</td>\n",
              "      <td>...</td>\n",
              "      <td>...</td>\n",
              "      <td>...</td>\n",
              "      <td>...</td>\n",
              "      <td>...</td>\n",
              "      <td>...</td>\n",
              "      <td>...</td>\n",
              "      <td>...</td>\n",
              "      <td>...</td>\n",
              "      <td>...</td>\n",
              "      <td>...</td>\n",
              "      <td>...</td>\n",
              "      <td>...</td>\n",
              "      <td>...</td>\n",
              "    </tr>\n",
              "    <tr>\n",
              "      <th>6571</th>\n",
              "      <td>2012</td>\n",
              "      <td>Mercedes-Benz</td>\n",
              "      <td>E-Class</td>\n",
              "      <td>E550</td>\n",
              "      <td>Convertible</td>\n",
              "      <td>automatic</td>\n",
              "      <td>wddkk7df7cf179378</td>\n",
              "      <td>ca</td>\n",
              "      <td>36.0</td>\n",
              "      <td>19669.0</td>\n",
              "      <td>—</td>\n",
              "      <td>black</td>\n",
              "      <td>mercedes-benz financial services</td>\n",
              "      <td>44800</td>\n",
              "      <td>43500</td>\n",
              "      <td>Thu Dec 18 2014 12:30:00 GMT-0800 (PST)</td>\n",
              "    </tr>\n",
              "    <tr>\n",
              "      <th>6572</th>\n",
              "      <td>2012</td>\n",
              "      <td>Mercedes-Benz</td>\n",
              "      <td>E-Class</td>\n",
              "      <td>E550</td>\n",
              "      <td>Convertible</td>\n",
              "      <td>automatic</td>\n",
              "      <td>wddkk7df1cf174063</td>\n",
              "      <td>ca</td>\n",
              "      <td>39.0</td>\n",
              "      <td>9707.0</td>\n",
              "      <td>gray</td>\n",
              "      <td>black</td>\n",
              "      <td>mercedes-benz financial services</td>\n",
              "      <td>46600</td>\n",
              "      <td>42750</td>\n",
              "      <td>Thu Dec 18 2014 12:30:00 GMT-0800 (PST)</td>\n",
              "    </tr>\n",
              "    <tr>\n",
              "      <th>6573</th>\n",
              "      <td>2012</td>\n",
              "      <td>Mercedes-Benz</td>\n",
              "      <td>C-Class</td>\n",
              "      <td>C250</td>\n",
              "      <td>Coupe</td>\n",
              "      <td>automatic</td>\n",
              "      <td>wddgj4hb4cf801272</td>\n",
              "      <td>ca</td>\n",
              "      <td>32.0</td>\n",
              "      <td>26368.0</td>\n",
              "      <td>white</td>\n",
              "      <td>red</td>\n",
              "      <td>mercedes-benz finc wholesale advantage</td>\n",
              "      <td>23800</td>\n",
              "      <td>24750</td>\n",
              "      <td>Thu Dec 18 2014 12:30:00 GMT-0800 (PST)</td>\n",
              "    </tr>\n",
              "    <tr>\n",
              "      <th>6574</th>\n",
              "      <td>2012</td>\n",
              "      <td>Mercedes-Benz</td>\n",
              "      <td>C-Class</td>\n",
              "      <td>C250 Sport</td>\n",
              "      <td>Sedan</td>\n",
              "      <td>automatic</td>\n",
              "      <td>wddgf4hb0cr216186</td>\n",
              "      <td>ca</td>\n",
              "      <td>42.0</td>\n",
              "      <td>44826.0</td>\n",
              "      <td>—</td>\n",
              "      <td>black</td>\n",
              "      <td>the hertz corporation</td>\n",
              "      <td>20600</td>\n",
              "      <td>19600</td>\n",
              "      <td>Tue Jan 06 2015 04:30:00 GMT-0800 (PST)</td>\n",
              "    </tr>\n",
              "    <tr>\n",
              "      <th>6575</th>\n",
              "      <td>2012</td>\n",
              "      <td>Mercedes-Benz</td>\n",
              "      <td>C-Class</td>\n",
              "      <td>C250 Sport</td>\n",
              "      <td>Sedan</td>\n",
              "      <td>automatic</td>\n",
              "      <td>wddgf4hb9ca620098</td>\n",
              "      <td>ca</td>\n",
              "      <td>39.0</td>\n",
              "      <td>30281.0</td>\n",
              "      <td>white</td>\n",
              "      <td>gray</td>\n",
              "      <td>mercedes-benz financial services</td>\n",
              "      <td>22000</td>\n",
              "      <td>21750</td>\n",
              "      <td>Thu Dec 18 2014 12:30:00 GM</td>\n",
              "    </tr>\n",
              "  </tbody>\n",
              "</table>\n",
              "<p>6576 rows × 16 columns</p>\n",
              "</div>\n",
              "    <div class=\"colab-df-buttons\">\n",
              "\n",
              "  <div class=\"colab-df-container\">\n",
              "    <button class=\"colab-df-convert\" onclick=\"convertToInteractive('df-5331fa15-24e4-4c62-9f4e-53ea89c7660e')\"\n",
              "            title=\"Convert this dataframe to an interactive table.\"\n",
              "            style=\"display:none;\">\n",
              "\n",
              "  <svg xmlns=\"http://www.w3.org/2000/svg\" height=\"24px\" viewBox=\"0 -960 960 960\">\n",
              "    <path d=\"M120-120v-720h720v720H120Zm60-500h600v-160H180v160Zm220 220h160v-160H400v160Zm0 220h160v-160H400v160ZM180-400h160v-160H180v160Zm440 0h160v-160H620v160ZM180-180h160v-160H180v160Zm440 0h160v-160H620v160Z\"/>\n",
              "  </svg>\n",
              "    </button>\n",
              "\n",
              "  <style>\n",
              "    .colab-df-container {\n",
              "      display:flex;\n",
              "      gap: 12px;\n",
              "    }\n",
              "\n",
              "    .colab-df-convert {\n",
              "      background-color: #E8F0FE;\n",
              "      border: none;\n",
              "      border-radius: 50%;\n",
              "      cursor: pointer;\n",
              "      display: none;\n",
              "      fill: #1967D2;\n",
              "      height: 32px;\n",
              "      padding: 0 0 0 0;\n",
              "      width: 32px;\n",
              "    }\n",
              "\n",
              "    .colab-df-convert:hover {\n",
              "      background-color: #E2EBFA;\n",
              "      box-shadow: 0px 1px 2px rgba(60, 64, 67, 0.3), 0px 1px 3px 1px rgba(60, 64, 67, 0.15);\n",
              "      fill: #174EA6;\n",
              "    }\n",
              "\n",
              "    .colab-df-buttons div {\n",
              "      margin-bottom: 4px;\n",
              "    }\n",
              "\n",
              "    [theme=dark] .colab-df-convert {\n",
              "      background-color: #3B4455;\n",
              "      fill: #D2E3FC;\n",
              "    }\n",
              "\n",
              "    [theme=dark] .colab-df-convert:hover {\n",
              "      background-color: #434B5C;\n",
              "      box-shadow: 0px 1px 3px 1px rgba(0, 0, 0, 0.15);\n",
              "      filter: drop-shadow(0px 1px 2px rgba(0, 0, 0, 0.3));\n",
              "      fill: #FFFFFF;\n",
              "    }\n",
              "  </style>\n",
              "\n",
              "    <script>\n",
              "      const buttonEl =\n",
              "        document.querySelector('#df-5331fa15-24e4-4c62-9f4e-53ea89c7660e button.colab-df-convert');\n",
              "      buttonEl.style.display =\n",
              "        google.colab.kernel.accessAllowed ? 'block' : 'none';\n",
              "\n",
              "      async function convertToInteractive(key) {\n",
              "        const element = document.querySelector('#df-5331fa15-24e4-4c62-9f4e-53ea89c7660e');\n",
              "        const dataTable =\n",
              "          await google.colab.kernel.invokeFunction('convertToInteractive',\n",
              "                                                    [key], {});\n",
              "        if (!dataTable) return;\n",
              "\n",
              "        const docLinkHtml = 'Like what you see? Visit the ' +\n",
              "          '<a target=\"_blank\" href=https://colab.research.google.com/notebooks/data_table.ipynb>data table notebook</a>'\n",
              "          + ' to learn more about interactive tables.';\n",
              "        element.innerHTML = '';\n",
              "        dataTable['output_type'] = 'display_data';\n",
              "        await google.colab.output.renderOutput(dataTable, element);\n",
              "        const docLink = document.createElement('div');\n",
              "        docLink.innerHTML = docLinkHtml;\n",
              "        element.appendChild(docLink);\n",
              "      }\n",
              "    </script>\n",
              "  </div>\n",
              "\n",
              "\n",
              "<div id=\"df-3b95cd51-8617-4540-a47c-30fc5574eab8\">\n",
              "  <button class=\"colab-df-quickchart\" onclick=\"quickchart('df-3b95cd51-8617-4540-a47c-30fc5574eab8')\"\n",
              "            title=\"Suggest charts\"\n",
              "            style=\"display:none;\">\n",
              "\n",
              "<svg xmlns=\"http://www.w3.org/2000/svg\" height=\"24px\"viewBox=\"0 0 24 24\"\n",
              "     width=\"24px\">\n",
              "    <g>\n",
              "        <path d=\"M19 3H5c-1.1 0-2 .9-2 2v14c0 1.1.9 2 2 2h14c1.1 0 2-.9 2-2V5c0-1.1-.9-2-2-2zM9 17H7v-7h2v7zm4 0h-2V7h2v10zm4 0h-2v-4h2v4z\"/>\n",
              "    </g>\n",
              "</svg>\n",
              "  </button>\n",
              "\n",
              "<style>\n",
              "  .colab-df-quickchart {\n",
              "      --bg-color: #E8F0FE;\n",
              "      --fill-color: #1967D2;\n",
              "      --hover-bg-color: #E2EBFA;\n",
              "      --hover-fill-color: #174EA6;\n",
              "      --disabled-fill-color: #AAA;\n",
              "      --disabled-bg-color: #DDD;\n",
              "  }\n",
              "\n",
              "  [theme=dark] .colab-df-quickchart {\n",
              "      --bg-color: #3B4455;\n",
              "      --fill-color: #D2E3FC;\n",
              "      --hover-bg-color: #434B5C;\n",
              "      --hover-fill-color: #FFFFFF;\n",
              "      --disabled-bg-color: #3B4455;\n",
              "      --disabled-fill-color: #666;\n",
              "  }\n",
              "\n",
              "  .colab-df-quickchart {\n",
              "    background-color: var(--bg-color);\n",
              "    border: none;\n",
              "    border-radius: 50%;\n",
              "    cursor: pointer;\n",
              "    display: none;\n",
              "    fill: var(--fill-color);\n",
              "    height: 32px;\n",
              "    padding: 0;\n",
              "    width: 32px;\n",
              "  }\n",
              "\n",
              "  .colab-df-quickchart:hover {\n",
              "    background-color: var(--hover-bg-color);\n",
              "    box-shadow: 0 1px 2px rgba(60, 64, 67, 0.3), 0 1px 3px 1px rgba(60, 64, 67, 0.15);\n",
              "    fill: var(--button-hover-fill-color);\n",
              "  }\n",
              "\n",
              "  .colab-df-quickchart-complete:disabled,\n",
              "  .colab-df-quickchart-complete:disabled:hover {\n",
              "    background-color: var(--disabled-bg-color);\n",
              "    fill: var(--disabled-fill-color);\n",
              "    box-shadow: none;\n",
              "  }\n",
              "\n",
              "  .colab-df-spinner {\n",
              "    border: 2px solid var(--fill-color);\n",
              "    border-color: transparent;\n",
              "    border-bottom-color: var(--fill-color);\n",
              "    animation:\n",
              "      spin 1s steps(1) infinite;\n",
              "  }\n",
              "\n",
              "  @keyframes spin {\n",
              "    0% {\n",
              "      border-color: transparent;\n",
              "      border-bottom-color: var(--fill-color);\n",
              "      border-left-color: var(--fill-color);\n",
              "    }\n",
              "    20% {\n",
              "      border-color: transparent;\n",
              "      border-left-color: var(--fill-color);\n",
              "      border-top-color: var(--fill-color);\n",
              "    }\n",
              "    30% {\n",
              "      border-color: transparent;\n",
              "      border-left-color: var(--fill-color);\n",
              "      border-top-color: var(--fill-color);\n",
              "      border-right-color: var(--fill-color);\n",
              "    }\n",
              "    40% {\n",
              "      border-color: transparent;\n",
              "      border-right-color: var(--fill-color);\n",
              "      border-top-color: var(--fill-color);\n",
              "    }\n",
              "    60% {\n",
              "      border-color: transparent;\n",
              "      border-right-color: var(--fill-color);\n",
              "    }\n",
              "    80% {\n",
              "      border-color: transparent;\n",
              "      border-right-color: var(--fill-color);\n",
              "      border-bottom-color: var(--fill-color);\n",
              "    }\n",
              "    90% {\n",
              "      border-color: transparent;\n",
              "      border-bottom-color: var(--fill-color);\n",
              "    }\n",
              "  }\n",
              "</style>\n",
              "\n",
              "  <script>\n",
              "    async function quickchart(key) {\n",
              "      const quickchartButtonEl =\n",
              "        document.querySelector('#' + key + ' button');\n",
              "      quickchartButtonEl.disabled = true;  // To prevent multiple clicks.\n",
              "      quickchartButtonEl.classList.add('colab-df-spinner');\n",
              "      try {\n",
              "        const charts = await google.colab.kernel.invokeFunction(\n",
              "            'suggestCharts', [key], {});\n",
              "      } catch (error) {\n",
              "        console.error('Error during call to suggestCharts:', error);\n",
              "      }\n",
              "      quickchartButtonEl.classList.remove('colab-df-spinner');\n",
              "      quickchartButtonEl.classList.add('colab-df-quickchart-complete');\n",
              "    }\n",
              "    (() => {\n",
              "      let quickchartButtonEl =\n",
              "        document.querySelector('#df-3b95cd51-8617-4540-a47c-30fc5574eab8 button');\n",
              "      quickchartButtonEl.style.display =\n",
              "        google.colab.kernel.accessAllowed ? 'block' : 'none';\n",
              "    })();\n",
              "  </script>\n",
              "</div>\n",
              "\n",
              "  <div id=\"id_fc93dd97-00ce-40ac-b87a-46396ef2c0c7\">\n",
              "    <style>\n",
              "      .colab-df-generate {\n",
              "        background-color: #E8F0FE;\n",
              "        border: none;\n",
              "        border-radius: 50%;\n",
              "        cursor: pointer;\n",
              "        display: none;\n",
              "        fill: #1967D2;\n",
              "        height: 32px;\n",
              "        padding: 0 0 0 0;\n",
              "        width: 32px;\n",
              "      }\n",
              "\n",
              "      .colab-df-generate:hover {\n",
              "        background-color: #E2EBFA;\n",
              "        box-shadow: 0px 1px 2px rgba(60, 64, 67, 0.3), 0px 1px 3px 1px rgba(60, 64, 67, 0.15);\n",
              "        fill: #174EA6;\n",
              "      }\n",
              "\n",
              "      [theme=dark] .colab-df-generate {\n",
              "        background-color: #3B4455;\n",
              "        fill: #D2E3FC;\n",
              "      }\n",
              "\n",
              "      [theme=dark] .colab-df-generate:hover {\n",
              "        background-color: #434B5C;\n",
              "        box-shadow: 0px 1px 3px 1px rgba(0, 0, 0, 0.15);\n",
              "        filter: drop-shadow(0px 1px 2px rgba(0, 0, 0, 0.3));\n",
              "        fill: #FFFFFF;\n",
              "      }\n",
              "    </style>\n",
              "    <button class=\"colab-df-generate\" onclick=\"generateWithVariable('data')\"\n",
              "            title=\"Generate code using this dataframe.\"\n",
              "            style=\"display:none;\">\n",
              "\n",
              "  <svg xmlns=\"http://www.w3.org/2000/svg\" height=\"24px\"viewBox=\"0 0 24 24\"\n",
              "       width=\"24px\">\n",
              "    <path d=\"M7,19H8.4L18.45,9,17,7.55,7,17.6ZM5,21V16.75L18.45,3.32a2,2,0,0,1,2.83,0l1.4,1.43a1.91,1.91,0,0,1,.58,1.4,1.91,1.91,0,0,1-.58,1.4L9.25,21ZM18.45,9,17,7.55Zm-12,3A5.31,5.31,0,0,0,4.9,8.1,5.31,5.31,0,0,0,1,6.5,5.31,5.31,0,0,0,4.9,4.9,5.31,5.31,0,0,0,6.5,1,5.31,5.31,0,0,0,8.1,4.9,5.31,5.31,0,0,0,12,6.5,5.46,5.46,0,0,0,6.5,12Z\"/>\n",
              "  </svg>\n",
              "    </button>\n",
              "    <script>\n",
              "      (() => {\n",
              "      const buttonEl =\n",
              "        document.querySelector('#id_fc93dd97-00ce-40ac-b87a-46396ef2c0c7 button.colab-df-generate');\n",
              "      buttonEl.style.display =\n",
              "        google.colab.kernel.accessAllowed ? 'block' : 'none';\n",
              "\n",
              "      buttonEl.onclick = () => {\n",
              "        google.colab.notebook.generateWithVariable('data');\n",
              "      }\n",
              "      })();\n",
              "    </script>\n",
              "  </div>\n",
              "\n",
              "    </div>\n",
              "  </div>\n"
            ],
            "application/vnd.google.colaboratory.intrinsic+json": {
              "type": "dataframe",
              "variable_name": "data",
              "repr_error": "'str' object has no attribute 'empty'"
            }
          },
          "metadata": {},
          "execution_count": 1
        }
      ]
    },
    {
      "cell_type": "code",
      "source": [
        "data.columns"
      ],
      "metadata": {
        "colab": {
          "base_uri": "https://localhost:8080/"
        },
        "id": "0xX_TE3_-TLc",
        "outputId": "6f89874f-15bc-4182-a2d3-9aca601b1697"
      },
      "execution_count": null,
      "outputs": [
        {
          "output_type": "execute_result",
          "data": {
            "text/plain": [
              "Index(['year', 'make', 'model', 'trim', 'body', 'transmission', 'vin', 'state',\n",
              "       'condition', 'odometer', 'color', 'interior', 'seller', 'mmr',\n",
              "       'sellingprice', 'saledate'],\n",
              "      dtype='object')"
            ]
          },
          "metadata": {},
          "execution_count": 2
        }
      ]
    },
    {
      "cell_type": "code",
      "source": [
        "print(data.info())"
      ],
      "metadata": {
        "colab": {
          "base_uri": "https://localhost:8080/"
        },
        "id": "_QEGTbcT-buE",
        "outputId": "49596dfa-f3c1-463d-c248-249f96d4d90e"
      },
      "execution_count": null,
      "outputs": [
        {
          "output_type": "stream",
          "name": "stdout",
          "text": [
            "<class 'pandas.core.frame.DataFrame'>\n",
            "RangeIndex: 6576 entries, 0 to 6575\n",
            "Data columns (total 16 columns):\n",
            " #   Column        Non-Null Count  Dtype  \n",
            "---  ------        --------------  -----  \n",
            " 0   year          6576 non-null   int64  \n",
            " 1   make          6553 non-null   object \n",
            " 2   model         6552 non-null   object \n",
            " 3   trim          6530 non-null   object \n",
            " 4   body          6398 non-null   object \n",
            " 5   transmission  6212 non-null   object \n",
            " 6   vin           6576 non-null   object \n",
            " 7   state         6576 non-null   object \n",
            " 8   condition     5861 non-null   float64\n",
            " 9   odometer      6568 non-null   float64\n",
            " 10  color         6559 non-null   object \n",
            " 11  interior      6559 non-null   object \n",
            " 12  seller        6576 non-null   object \n",
            " 13  mmr           6576 non-null   int64  \n",
            " 14  sellingprice  6576 non-null   int64  \n",
            " 15  saledate      6576 non-null   object \n",
            "dtypes: float64(2), int64(3), object(11)\n",
            "memory usage: 822.1+ KB\n",
            "None\n"
          ]
        }
      ]
    },
    {
      "cell_type": "code",
      "source": [
        "import matplotlib.pyplot as plt\n",
        "\n",
        "#check for missing values\n",
        "\n",
        "missing_values = data.isnull().sum()\n",
        "print('missing_values:\\n', missing_values)"
      ],
      "metadata": {
        "colab": {
          "base_uri": "https://localhost:8080/"
        },
        "id": "6b16VYAe-zW3",
        "outputId": "bf90f604-0b42-48b7-bf03-23b1e69fe412"
      },
      "execution_count": null,
      "outputs": [
        {
          "output_type": "stream",
          "name": "stdout",
          "text": [
            "missing_values:\n",
            " year              0\n",
            "make             23\n",
            "model            24\n",
            "trim             46\n",
            "body            178\n",
            "transmission    364\n",
            "vin               0\n",
            "state             0\n",
            "condition       715\n",
            "odometer          8\n",
            "color            17\n",
            "interior         17\n",
            "seller            0\n",
            "mmr               0\n",
            "sellingprice      0\n",
            "saledate          0\n",
            "dtype: int64\n"
          ]
        }
      ]
    },
    {
      "cell_type": "code",
      "source": [
        "#calculate statistical measures\n",
        "\n",
        "statis = data.describe()\n",
        "statis"
      ],
      "metadata": {
        "colab": {
          "base_uri": "https://localhost:8080/",
          "height": 300
        },
        "id": "gJ47L-uJAQe-",
        "outputId": "c2d88d86-0677-403d-f324-6b36ef4068a8"
      },
      "execution_count": null,
      "outputs": [
        {
          "output_type": "execute_result",
          "data": {
            "text/plain": [
              "              year    condition       odometer            mmr   sellingprice\n",
              "count  6576.000000  5861.000000    6568.000000    6576.000000    6576.000000\n",
              "mean   2009.657695    29.687937   67028.961023   14830.828011   14499.958485\n",
              "std       4.397865    14.570684   57857.057274   11920.731485   11974.141929\n",
              "min    1987.000000     1.000000       1.000000      25.000000     100.000000\n",
              "25%    2007.000000    21.000000   24497.500000    6625.000000    6100.000000\n",
              "50%    2012.000000    34.000000   45132.000000   12600.000000   12300.000000\n",
              "75%    2013.000000    42.000000  100941.250000   19950.000000   19800.000000\n",
              "max    2015.000000    49.000000  999999.000000  149000.000000  154000.000000"
            ],
            "text/html": [
              "\n",
              "  <div id=\"df-4d25c473-5d8e-4574-ae2e-223449e0b4e0\" class=\"colab-df-container\">\n",
              "    <div>\n",
              "<style scoped>\n",
              "    .dataframe tbody tr th:only-of-type {\n",
              "        vertical-align: middle;\n",
              "    }\n",
              "\n",
              "    .dataframe tbody tr th {\n",
              "        vertical-align: top;\n",
              "    }\n",
              "\n",
              "    .dataframe thead th {\n",
              "        text-align: right;\n",
              "    }\n",
              "</style>\n",
              "<table border=\"1\" class=\"dataframe\">\n",
              "  <thead>\n",
              "    <tr style=\"text-align: right;\">\n",
              "      <th></th>\n",
              "      <th>year</th>\n",
              "      <th>condition</th>\n",
              "      <th>odometer</th>\n",
              "      <th>mmr</th>\n",
              "      <th>sellingprice</th>\n",
              "    </tr>\n",
              "  </thead>\n",
              "  <tbody>\n",
              "    <tr>\n",
              "      <th>count</th>\n",
              "      <td>6576.000000</td>\n",
              "      <td>5861.000000</td>\n",
              "      <td>6568.000000</td>\n",
              "      <td>6576.000000</td>\n",
              "      <td>6576.000000</td>\n",
              "    </tr>\n",
              "    <tr>\n",
              "      <th>mean</th>\n",
              "      <td>2009.657695</td>\n",
              "      <td>29.687937</td>\n",
              "      <td>67028.961023</td>\n",
              "      <td>14830.828011</td>\n",
              "      <td>14499.958485</td>\n",
              "    </tr>\n",
              "    <tr>\n",
              "      <th>std</th>\n",
              "      <td>4.397865</td>\n",
              "      <td>14.570684</td>\n",
              "      <td>57857.057274</td>\n",
              "      <td>11920.731485</td>\n",
              "      <td>11974.141929</td>\n",
              "    </tr>\n",
              "    <tr>\n",
              "      <th>min</th>\n",
              "      <td>1987.000000</td>\n",
              "      <td>1.000000</td>\n",
              "      <td>1.000000</td>\n",
              "      <td>25.000000</td>\n",
              "      <td>100.000000</td>\n",
              "    </tr>\n",
              "    <tr>\n",
              "      <th>25%</th>\n",
              "      <td>2007.000000</td>\n",
              "      <td>21.000000</td>\n",
              "      <td>24497.500000</td>\n",
              "      <td>6625.000000</td>\n",
              "      <td>6100.000000</td>\n",
              "    </tr>\n",
              "    <tr>\n",
              "      <th>50%</th>\n",
              "      <td>2012.000000</td>\n",
              "      <td>34.000000</td>\n",
              "      <td>45132.000000</td>\n",
              "      <td>12600.000000</td>\n",
              "      <td>12300.000000</td>\n",
              "    </tr>\n",
              "    <tr>\n",
              "      <th>75%</th>\n",
              "      <td>2013.000000</td>\n",
              "      <td>42.000000</td>\n",
              "      <td>100941.250000</td>\n",
              "      <td>19950.000000</td>\n",
              "      <td>19800.000000</td>\n",
              "    </tr>\n",
              "    <tr>\n",
              "      <th>max</th>\n",
              "      <td>2015.000000</td>\n",
              "      <td>49.000000</td>\n",
              "      <td>999999.000000</td>\n",
              "      <td>149000.000000</td>\n",
              "      <td>154000.000000</td>\n",
              "    </tr>\n",
              "  </tbody>\n",
              "</table>\n",
              "</div>\n",
              "    <div class=\"colab-df-buttons\">\n",
              "\n",
              "  <div class=\"colab-df-container\">\n",
              "    <button class=\"colab-df-convert\" onclick=\"convertToInteractive('df-4d25c473-5d8e-4574-ae2e-223449e0b4e0')\"\n",
              "            title=\"Convert this dataframe to an interactive table.\"\n",
              "            style=\"display:none;\">\n",
              "\n",
              "  <svg xmlns=\"http://www.w3.org/2000/svg\" height=\"24px\" viewBox=\"0 -960 960 960\">\n",
              "    <path d=\"M120-120v-720h720v720H120Zm60-500h600v-160H180v160Zm220 220h160v-160H400v160Zm0 220h160v-160H400v160ZM180-400h160v-160H180v160Zm440 0h160v-160H620v160ZM180-180h160v-160H180v160Zm440 0h160v-160H620v160Z\"/>\n",
              "  </svg>\n",
              "    </button>\n",
              "\n",
              "  <style>\n",
              "    .colab-df-container {\n",
              "      display:flex;\n",
              "      gap: 12px;\n",
              "    }\n",
              "\n",
              "    .colab-df-convert {\n",
              "      background-color: #E8F0FE;\n",
              "      border: none;\n",
              "      border-radius: 50%;\n",
              "      cursor: pointer;\n",
              "      display: none;\n",
              "      fill: #1967D2;\n",
              "      height: 32px;\n",
              "      padding: 0 0 0 0;\n",
              "      width: 32px;\n",
              "    }\n",
              "\n",
              "    .colab-df-convert:hover {\n",
              "      background-color: #E2EBFA;\n",
              "      box-shadow: 0px 1px 2px rgba(60, 64, 67, 0.3), 0px 1px 3px 1px rgba(60, 64, 67, 0.15);\n",
              "      fill: #174EA6;\n",
              "    }\n",
              "\n",
              "    .colab-df-buttons div {\n",
              "      margin-bottom: 4px;\n",
              "    }\n",
              "\n",
              "    [theme=dark] .colab-df-convert {\n",
              "      background-color: #3B4455;\n",
              "      fill: #D2E3FC;\n",
              "    }\n",
              "\n",
              "    [theme=dark] .colab-df-convert:hover {\n",
              "      background-color: #434B5C;\n",
              "      box-shadow: 0px 1px 3px 1px rgba(0, 0, 0, 0.15);\n",
              "      filter: drop-shadow(0px 1px 2px rgba(0, 0, 0, 0.3));\n",
              "      fill: #FFFFFF;\n",
              "    }\n",
              "  </style>\n",
              "\n",
              "    <script>\n",
              "      const buttonEl =\n",
              "        document.querySelector('#df-4d25c473-5d8e-4574-ae2e-223449e0b4e0 button.colab-df-convert');\n",
              "      buttonEl.style.display =\n",
              "        google.colab.kernel.accessAllowed ? 'block' : 'none';\n",
              "\n",
              "      async function convertToInteractive(key) {\n",
              "        const element = document.querySelector('#df-4d25c473-5d8e-4574-ae2e-223449e0b4e0');\n",
              "        const dataTable =\n",
              "          await google.colab.kernel.invokeFunction('convertToInteractive',\n",
              "                                                    [key], {});\n",
              "        if (!dataTable) return;\n",
              "\n",
              "        const docLinkHtml = 'Like what you see? Visit the ' +\n",
              "          '<a target=\"_blank\" href=https://colab.research.google.com/notebooks/data_table.ipynb>data table notebook</a>'\n",
              "          + ' to learn more about interactive tables.';\n",
              "        element.innerHTML = '';\n",
              "        dataTable['output_type'] = 'display_data';\n",
              "        await google.colab.output.renderOutput(dataTable, element);\n",
              "        const docLink = document.createElement('div');\n",
              "        docLink.innerHTML = docLinkHtml;\n",
              "        element.appendChild(docLink);\n",
              "      }\n",
              "    </script>\n",
              "  </div>\n",
              "\n",
              "\n",
              "<div id=\"df-a35b80e5-e3cc-45e8-9900-bcac27e41f1d\">\n",
              "  <button class=\"colab-df-quickchart\" onclick=\"quickchart('df-a35b80e5-e3cc-45e8-9900-bcac27e41f1d')\"\n",
              "            title=\"Suggest charts\"\n",
              "            style=\"display:none;\">\n",
              "\n",
              "<svg xmlns=\"http://www.w3.org/2000/svg\" height=\"24px\"viewBox=\"0 0 24 24\"\n",
              "     width=\"24px\">\n",
              "    <g>\n",
              "        <path d=\"M19 3H5c-1.1 0-2 .9-2 2v14c0 1.1.9 2 2 2h14c1.1 0 2-.9 2-2V5c0-1.1-.9-2-2-2zM9 17H7v-7h2v7zm4 0h-2V7h2v10zm4 0h-2v-4h2v4z\"/>\n",
              "    </g>\n",
              "</svg>\n",
              "  </button>\n",
              "\n",
              "<style>\n",
              "  .colab-df-quickchart {\n",
              "      --bg-color: #E8F0FE;\n",
              "      --fill-color: #1967D2;\n",
              "      --hover-bg-color: #E2EBFA;\n",
              "      --hover-fill-color: #174EA6;\n",
              "      --disabled-fill-color: #AAA;\n",
              "      --disabled-bg-color: #DDD;\n",
              "  }\n",
              "\n",
              "  [theme=dark] .colab-df-quickchart {\n",
              "      --bg-color: #3B4455;\n",
              "      --fill-color: #D2E3FC;\n",
              "      --hover-bg-color: #434B5C;\n",
              "      --hover-fill-color: #FFFFFF;\n",
              "      --disabled-bg-color: #3B4455;\n",
              "      --disabled-fill-color: #666;\n",
              "  }\n",
              "\n",
              "  .colab-df-quickchart {\n",
              "    background-color: var(--bg-color);\n",
              "    border: none;\n",
              "    border-radius: 50%;\n",
              "    cursor: pointer;\n",
              "    display: none;\n",
              "    fill: var(--fill-color);\n",
              "    height: 32px;\n",
              "    padding: 0;\n",
              "    width: 32px;\n",
              "  }\n",
              "\n",
              "  .colab-df-quickchart:hover {\n",
              "    background-color: var(--hover-bg-color);\n",
              "    box-shadow: 0 1px 2px rgba(60, 64, 67, 0.3), 0 1px 3px 1px rgba(60, 64, 67, 0.15);\n",
              "    fill: var(--button-hover-fill-color);\n",
              "  }\n",
              "\n",
              "  .colab-df-quickchart-complete:disabled,\n",
              "  .colab-df-quickchart-complete:disabled:hover {\n",
              "    background-color: var(--disabled-bg-color);\n",
              "    fill: var(--disabled-fill-color);\n",
              "    box-shadow: none;\n",
              "  }\n",
              "\n",
              "  .colab-df-spinner {\n",
              "    border: 2px solid var(--fill-color);\n",
              "    border-color: transparent;\n",
              "    border-bottom-color: var(--fill-color);\n",
              "    animation:\n",
              "      spin 1s steps(1) infinite;\n",
              "  }\n",
              "\n",
              "  @keyframes spin {\n",
              "    0% {\n",
              "      border-color: transparent;\n",
              "      border-bottom-color: var(--fill-color);\n",
              "      border-left-color: var(--fill-color);\n",
              "    }\n",
              "    20% {\n",
              "      border-color: transparent;\n",
              "      border-left-color: var(--fill-color);\n",
              "      border-top-color: var(--fill-color);\n",
              "    }\n",
              "    30% {\n",
              "      border-color: transparent;\n",
              "      border-left-color: var(--fill-color);\n",
              "      border-top-color: var(--fill-color);\n",
              "      border-right-color: var(--fill-color);\n",
              "    }\n",
              "    40% {\n",
              "      border-color: transparent;\n",
              "      border-right-color: var(--fill-color);\n",
              "      border-top-color: var(--fill-color);\n",
              "    }\n",
              "    60% {\n",
              "      border-color: transparent;\n",
              "      border-right-color: var(--fill-color);\n",
              "    }\n",
              "    80% {\n",
              "      border-color: transparent;\n",
              "      border-right-color: var(--fill-color);\n",
              "      border-bottom-color: var(--fill-color);\n",
              "    }\n",
              "    90% {\n",
              "      border-color: transparent;\n",
              "      border-bottom-color: var(--fill-color);\n",
              "    }\n",
              "  }\n",
              "</style>\n",
              "\n",
              "  <script>\n",
              "    async function quickchart(key) {\n",
              "      const quickchartButtonEl =\n",
              "        document.querySelector('#' + key + ' button');\n",
              "      quickchartButtonEl.disabled = true;  // To prevent multiple clicks.\n",
              "      quickchartButtonEl.classList.add('colab-df-spinner');\n",
              "      try {\n",
              "        const charts = await google.colab.kernel.invokeFunction(\n",
              "            'suggestCharts', [key], {});\n",
              "      } catch (error) {\n",
              "        console.error('Error during call to suggestCharts:', error);\n",
              "      }\n",
              "      quickchartButtonEl.classList.remove('colab-df-spinner');\n",
              "      quickchartButtonEl.classList.add('colab-df-quickchart-complete');\n",
              "    }\n",
              "    (() => {\n",
              "      let quickchartButtonEl =\n",
              "        document.querySelector('#df-a35b80e5-e3cc-45e8-9900-bcac27e41f1d button');\n",
              "      quickchartButtonEl.style.display =\n",
              "        google.colab.kernel.accessAllowed ? 'block' : 'none';\n",
              "    })();\n",
              "  </script>\n",
              "</div>\n",
              "\n",
              "  <div id=\"id_6741effa-1c9c-4327-b33f-b8d352c42711\">\n",
              "    <style>\n",
              "      .colab-df-generate {\n",
              "        background-color: #E8F0FE;\n",
              "        border: none;\n",
              "        border-radius: 50%;\n",
              "        cursor: pointer;\n",
              "        display: none;\n",
              "        fill: #1967D2;\n",
              "        height: 32px;\n",
              "        padding: 0 0 0 0;\n",
              "        width: 32px;\n",
              "      }\n",
              "\n",
              "      .colab-df-generate:hover {\n",
              "        background-color: #E2EBFA;\n",
              "        box-shadow: 0px 1px 2px rgba(60, 64, 67, 0.3), 0px 1px 3px 1px rgba(60, 64, 67, 0.15);\n",
              "        fill: #174EA6;\n",
              "      }\n",
              "\n",
              "      [theme=dark] .colab-df-generate {\n",
              "        background-color: #3B4455;\n",
              "        fill: #D2E3FC;\n",
              "      }\n",
              "\n",
              "      [theme=dark] .colab-df-generate:hover {\n",
              "        background-color: #434B5C;\n",
              "        box-shadow: 0px 1px 3px 1px rgba(0, 0, 0, 0.15);\n",
              "        filter: drop-shadow(0px 1px 2px rgba(0, 0, 0, 0.3));\n",
              "        fill: #FFFFFF;\n",
              "      }\n",
              "    </style>\n",
              "    <button class=\"colab-df-generate\" onclick=\"generateWithVariable('statis')\"\n",
              "            title=\"Generate code using this dataframe.\"\n",
              "            style=\"display:none;\">\n",
              "\n",
              "  <svg xmlns=\"http://www.w3.org/2000/svg\" height=\"24px\"viewBox=\"0 0 24 24\"\n",
              "       width=\"24px\">\n",
              "    <path d=\"M7,19H8.4L18.45,9,17,7.55,7,17.6ZM5,21V16.75L18.45,3.32a2,2,0,0,1,2.83,0l1.4,1.43a1.91,1.91,0,0,1,.58,1.4,1.91,1.91,0,0,1-.58,1.4L9.25,21ZM18.45,9,17,7.55Zm-12,3A5.31,5.31,0,0,0,4.9,8.1,5.31,5.31,0,0,0,1,6.5,5.31,5.31,0,0,0,4.9,4.9,5.31,5.31,0,0,0,6.5,1,5.31,5.31,0,0,0,8.1,4.9,5.31,5.31,0,0,0,12,6.5,5.46,5.46,0,0,0,6.5,12Z\"/>\n",
              "  </svg>\n",
              "    </button>\n",
              "    <script>\n",
              "      (() => {\n",
              "      const buttonEl =\n",
              "        document.querySelector('#id_6741effa-1c9c-4327-b33f-b8d352c42711 button.colab-df-generate');\n",
              "      buttonEl.style.display =\n",
              "        google.colab.kernel.accessAllowed ? 'block' : 'none';\n",
              "\n",
              "      buttonEl.onclick = () => {\n",
              "        google.colab.notebook.generateWithVariable('statis');\n",
              "      }\n",
              "      })();\n",
              "    </script>\n",
              "  </div>\n",
              "\n",
              "    </div>\n",
              "  </div>\n"
            ],
            "application/vnd.google.colaboratory.intrinsic+json": {
              "type": "dataframe",
              "variable_name": "statis",
              "summary": "{\n  \"name\": \"statis\",\n  \"rows\": 8,\n  \"fields\": [\n    {\n      \"column\": \"year\",\n      \"properties\": {\n        \"dtype\": \"number\",\n        \"std\": 1854.0436389931092,\n        \"min\": 4.397864512043228,\n        \"max\": 6576.0,\n        \"num_unique_values\": 8,\n        \"samples\": [\n          2009.6576946472019,\n          2012.0,\n          6576.0\n        ],\n        \"semantic_type\": \"\",\n        \"description\": \"\"\n      }\n    },\n    {\n      \"column\": \"condition\",\n      \"properties\": {\n        \"dtype\": \"number\",\n        \"std\": 2062.572886223354,\n        \"min\": 1.0,\n        \"max\": 5861.0,\n        \"num_unique_values\": 8,\n        \"samples\": [\n          29.68793721207985,\n          34.0,\n          5861.0\n        ],\n        \"semantic_type\": \"\",\n        \"description\": \"\"\n      }\n    },\n    {\n      \"column\": \"odometer\",\n      \"properties\": {\n        \"dtype\": \"number\",\n        \"std\": 339915.7580600365,\n        \"min\": 1.0,\n        \"max\": 999999.0,\n        \"num_unique_values\": 8,\n        \"samples\": [\n          67028.9610231425,\n          45132.0,\n          6568.0\n        ],\n        \"semantic_type\": \"\",\n        \"description\": \"\"\n      }\n    },\n    {\n      \"column\": \"mmr\",\n      \"properties\": {\n        \"dtype\": \"number\",\n        \"std\": 49385.72288282092,\n        \"min\": 25.0,\n        \"max\": 149000.0,\n        \"num_unique_values\": 8,\n        \"samples\": [\n          14830.828010948906,\n          12600.0,\n          6576.0\n        ],\n        \"semantic_type\": \"\",\n        \"description\": \"\"\n      }\n    },\n    {\n      \"column\": \"sellingprice\",\n      \"properties\": {\n        \"dtype\": \"number\",\n        \"std\": 51193.73451816087,\n        \"min\": 100.0,\n        \"max\": 154000.0,\n        \"num_unique_values\": 8,\n        \"samples\": [\n          14499.95848540146,\n          12300.0,\n          6576.0\n        ],\n        \"semantic_type\": \"\",\n        \"description\": \"\"\n      }\n    }\n  ]\n}"
            }
          },
          "metadata": {},
          "execution_count": 5
        }
      ]
    },
    {
      "cell_type": "code",
      "source": [
        "#Check for duplicate rows\n",
        "\n",
        "data.duplicated().sum()"
      ],
      "metadata": {
        "colab": {
          "base_uri": "https://localhost:8080/"
        },
        "id": "Pe-aCC-EUMee",
        "outputId": "aa4cba6d-0fa0-496d-bcea-b70d6f7100bf"
      },
      "execution_count": null,
      "outputs": [
        {
          "output_type": "execute_result",
          "data": {
            "text/plain": [
              "0"
            ]
          },
          "metadata": {},
          "execution_count": 6
        }
      ]
    },
    {
      "cell_type": "code",
      "source": [
        "#Check for inconsistencies\n",
        "\n",
        "print(data.value_counts())\n",
        "\n"
      ],
      "metadata": {
        "colab": {
          "base_uri": "https://localhost:8080/"
        },
        "id": "O7zhB1ezUbT1",
        "outputId": "6e5d11ba-6b1f-49f1-d41f-433ea522fa8f"
      },
      "execution_count": null,
      "outputs": [
        {
          "output_type": "stream",
          "name": "stdout",
          "text": [
            "year  make       model     trim                       body         transmission  vin                state  condition  odometer  color   interior  seller                                         mmr    sellingprice  saledate                               \n",
            "1991  Lexus      LS 400    Base                       Sedan        automatic     jt8uf11e5m0094008  ca     2.0        171533.0  silver  silver    san diego sports cars                          1075   1400          Wed Dec 17 2014 12:15:00 GMT-0800 (PST)    1\n",
            "2013  Chevrolet  Suburban  LTZ 1500                   SUV          automatic     1gnskke75dr244868  ca     37.0       59603.0   gold    black     tdaf remarketing                               30300  32000         Tue Dec 23 2014 12:00:00 GMT-0800 (PST)    1\n",
            "      Chrysler   200       LX                         Sedan        automatic     1c3ccbabxdn646868  ca     29.0       37013.0   gray    black     enterprise veh exchange/rental                 11050  10500         Fri Dec 26 2014 15:00:00 GMT-0800 (PST)    1\n",
            "                                                                                 1c3ccbab9dn698315  ca     38.0       38787.0   gray    black     enterprise vehicle exchange/orange             10800  10400         Wed Dec 17 2014 12:30:00 GMT-0800 (PST)    1\n",
            "                                                                                 1c3ccbab7dn691377  ca     41.0       43130.0   white   black     enterprise veh exchange/rental                 10600  10400         Thu Dec 18 2014 11:30:00 GMT-0800 (PST)    1\n",
            "                                                                                                                                                                                                                                                                ..\n",
            "2011  BMW        3 Series  328i                       Convertible  automatic     wbadw7c51be728154  ca     34.0       28610.0   black   black     financial services remarketing (lease)         26200  25000         Thu Dec 18 2014 12:30:00 GMT-0800 (PST)    1\n",
            "                                                                                 wbadw7c50be728159  ca     24.0       31572.0   white   —         financial services remarketing (lease)         25800  23500         Tue Dec 16 2014 12:30:00 GMT-0800 (PST)    1\n",
            "      Audi       S5        3.0T Premium Plus quattro  Convertible  automatic     wauvgafh6bn011740  ca     26.0       35177.0   gray    black     fiserv/usb dealer services northstar exchange  31900  29750         Thu Dec 18 2014 12:30:00 GMT-0800 (PST)    1\n",
            "                 S4        Premium Plus quattro       Sedan        automatic     waubgafl8ba127617  ca     39.0       34952.0   gray    black     walters auto sales/service inc                 26100  29250         Tue Dec 23 2014 12:30:00 GMT-0800 (PST)    1\n",
            "2015  Volvo      XC70      T6                         Wagon        automatic     yv4902nb3f1198103  ca     42.0       16506.0   brown   brown     volvo na rep/world omni                        32100  32500         Thu Feb 26 2015 04:30:00 GMT-0800 (PST)    1\n",
            "Length: 5467, dtype: int64\n"
          ]
        }
      ]
    },
    {
      "cell_type": "code",
      "source": [
        "#drop the null value\n",
        "data = data.dropna()\n",
        "\n",
        "#cheack again for null value\n",
        "data.isnull().sum()\n"
      ],
      "metadata": {
        "colab": {
          "base_uri": "https://localhost:8080/"
        },
        "id": "TatEcCmwXhL7",
        "outputId": "91efcf7f-1d71-46d0-db8c-ffe1cc49534f"
      },
      "execution_count": null,
      "outputs": [
        {
          "output_type": "execute_result",
          "data": {
            "text/plain": [
              "year            0\n",
              "make            0\n",
              "model           0\n",
              "trim            0\n",
              "body            0\n",
              "transmission    0\n",
              "vin             0\n",
              "state           0\n",
              "condition       0\n",
              "odometer        0\n",
              "color           0\n",
              "interior        0\n",
              "seller          0\n",
              "mmr             0\n",
              "sellingprice    0\n",
              "saledate        0\n",
              "dtype: int64"
            ]
          },
          "metadata": {},
          "execution_count": 8
        }
      ]
    },
    {
      "cell_type": "markdown",
      "source": [
        "# Correlation Matrix"
      ],
      "metadata": {
        "id": "Wa25yIh8Yuhd"
      }
    },
    {
      "cell_type": "code",
      "source": [
        "#heatmap\n",
        "\n",
        "import seaborn as sns\n",
        "\n",
        "correlation = data.corr()\n",
        "data.corr()\n",
        "plt.figure(figsize=(10, 7))\n",
        "plt.title('correlation Heatmap ')\n",
        "sns.heatmap(correlation ,annot=True ,cmap='coolwarm')\n",
        "plt.show()"
      ],
      "metadata": {
        "colab": {
          "base_uri": "https://localhost:8080/",
          "height": 713
        },
        "id": "sA26zCQwZSrg",
        "outputId": "6cdb668e-a136-4184-947c-224b84f06d5b"
      },
      "execution_count": null,
      "outputs": [
        {
          "output_type": "stream",
          "name": "stderr",
          "text": [
            "<ipython-input-9-1063ef49732d>:5: FutureWarning: The default value of numeric_only in DataFrame.corr is deprecated. In a future version, it will default to False. Select only valid columns or specify the value of numeric_only to silence this warning.\n",
            "  correlation = data.corr()\n",
            "<ipython-input-9-1063ef49732d>:6: FutureWarning: The default value of numeric_only in DataFrame.corr is deprecated. In a future version, it will default to False. Select only valid columns or specify the value of numeric_only to silence this warning.\n",
            "  data.corr()\n"
          ]
        },
        {
          "output_type": "display_data",
          "data": {
            "text/plain": [
              "<Figure size 1000x700 with 2 Axes>"
            ],
            "image/png": "[encoded data removed]"
          },
          "metadata": {}
        }
      ]
    },
    {
      "cell_type": "markdown",
      "source": [
        "# 2:Data Processing"
      ],
      "metadata": {
        "id": "zco1KHVyeGLx"
      }
    },
    {
      "cell_type": "code",
      "source": [
        "# Checking the data types of the columns\n",
        "data.dtypes"
      ],
      "metadata": {
        "colab": {
          "base_uri": "https://localhost:8080/"
        },
        "id": "x1V1lbbQfWPY",
        "outputId": "0f031cc1-400c-4426-c2f0-1b6faf16e179"
      },
      "execution_count": null,
      "outputs": [
        {
          "output_type": "execute_result",
          "data": {
            "text/plain": [
              "year              int64\n",
              "make             object\n",
              "model            object\n",
              "trim             object\n",
              "body             object\n",
              "transmission     object\n",
              "vin              object\n",
              "state            object\n",
              "condition       float64\n",
              "odometer        float64\n",
              "color            object\n",
              "interior         object\n",
              "seller           object\n",
              "mmr               int64\n",
              "sellingprice      int64\n",
              "saledate         object\n",
              "dtype: object"
            ]
          },
          "metadata": {},
          "execution_count": 10
        }
      ]
    },
    {
      "cell_type": "markdown",
      "source": [
        "### **Normalization**"
      ],
      "metadata": {
        "id": "DdWjouSpfc1Q"
      }
    },
    {
      "cell_type": "code",
      "source": [
        "from sklearn.preprocessing import MinMaxScaler\n",
        "\n",
        "# Selecting the numerical columns for normalization\n",
        "numerical_cols = ['year', 'condition', 'odometer', 'mmr', 'sellingprice']\n",
        "\n",
        "# Initializing the MinMaxScaler\n",
        "scaler = MinMaxScaler()\n",
        "\n",
        "# Fitting the scaler to the data and transforming it\n",
        "data[numerical_cols] = scaler.fit_transform(data[numerical_cols])\n",
        "\n",
        "# Showing the first few rows to verify the normalization\n",
        "data.head()"
      ],
      "metadata": {
        "colab": {
          "base_uri": "https://localhost:8080/",
          "height": 487
        },
        "id": "MjW6KGuQfs1i",
        "outputId": "2eb5f612-add5-4e7d-a8b8-a072f06e4f0d"
      },
      "execution_count": null,
      "outputs": [
        {
          "output_type": "stream",
          "name": "stderr",
          "text": [
            "<ipython-input-11-42842c5e82b5>:10: SettingWithCopyWarning: \n",
            "A value is trying to be set on a copy of a slice from a DataFrame.\n",
            "Try using .loc[row_indexer,col_indexer] = value instead\n",
            "\n",
            "See the caveats in the documentation: https://pandas.pydata.org/pandas-docs/stable/user_guide/indexing.html#returning-a-view-versus-a-copy\n",
            "  data[numerical_cols] = scaler.fit_transform(data[numerical_cols])\n"
          ]
        },
        {
          "output_type": "execute_result",
          "data": {
            "text/plain": [
              "       year   make                model        trim   body transmission  \\\n",
              "0  1.000000    Kia              Sorento          LX    SUV    automatic   \n",
              "1  1.000000    Kia              Sorento          LX    SUV    automatic   \n",
              "2  0.958333    BMW             3 Series  328i SULEV  Sedan    automatic   \n",
              "3  1.000000  Volvo                  S60          T5  Sedan    automatic   \n",
              "4  0.958333    BMW  6 Series Gran Coupe        650i  Sedan    automatic   \n",
              "\n",
              "                 vin state  condition  odometer  color interior  \\\n",
              "0  5xyktca69fg566472    ca   0.083333  0.016638  white    black   \n",
              "1  5xyktca69fg561319    ca   0.083333  0.009392  white    beige   \n",
              "2  wba3c1c51ek116351    ca   0.916667  0.001330   gray    black   \n",
              "3  yv1612tb4f1310987    ca   0.833333  0.014281  white    black   \n",
              "4  wba6b2c57ed129731    ca   0.875000  0.002640   gray    black   \n",
              "\n",
              "                                   seller       mmr  sellingprice  \\\n",
              "0                 kia motors america  inc  0.137439      0.138772   \n",
              "1                 kia motors america  inc  0.139453      0.138772   \n",
              "2  financial services remarketing (lease)  0.213962      0.194020   \n",
              "3                 volvo na rep/world omni  0.184427      0.179396   \n",
              "4  financial services remarketing (lease)  0.442860      0.434514   \n",
              "\n",
              "                                  saledate  \n",
              "0  Tue Dec 16 2014 12:30:00 GMT-0800 (PST)  \n",
              "1  Tue Dec 16 2014 12:30:00 GMT-0800 (PST)  \n",
              "2  Thu Jan 15 2015 04:30:00 GMT-0800 (PST)  \n",
              "3  Thu Jan 29 2015 04:30:00 GMT-0800 (PST)  \n",
              "4  Thu Dec 18 2014 12:30:00 GMT-0800 (PST)  "
            ],
            "text/html": [
              "\n",
              "  <div id=\"df-25525a2d-b0ff-4792-a839-99cd1b78b60f\" class=\"colab-df-container\">\n",
              "    <div>\n",
              "<style scoped>\n",
              "    .dataframe tbody tr th:only-of-type {\n",
              "        vertical-align: middle;\n",
              "    }\n",
              "\n",
              "    .dataframe tbody tr th {\n",
              "        vertical-align: top;\n",
              "    }\n",
              "\n",
              "    .dataframe thead th {\n",
              "        text-align: right;\n",
              "    }\n",
              "</style>\n",
              "<table border=\"1\" class=\"dataframe\">\n",
              "  <thead>\n",
              "    <tr style=\"text-align: right;\">\n",
              "      <th></th>\n",
              "      <th>year</th>\n",
              "      <th>make</th>\n",
              "      <th>model</th>\n",
              "      <th>trim</th>\n",
              "      <th>body</th>\n",
              "      <th>transmission</th>\n",
              "      <th>vin</th>\n",
              "      <th>state</th>\n",
              "      <th>condition</th>\n",
              "      <th>odometer</th>\n",
              "      <th>color</th>\n",
              "      <th>interior</th>\n",
              "      <th>seller</th>\n",
              "      <th>mmr</th>\n",
              "      <th>sellingprice</th>\n",
              "      <th>saledate</th>\n",
              "    </tr>\n",
              "  </thead>\n",
              "  <tbody>\n",
              "    <tr>\n",
              "      <th>0</th>\n",
              "      <td>1.000000</td>\n",
              "      <td>Kia</td>\n",
              "      <td>Sorento</td>\n",
              "      <td>LX</td>\n",
              "      <td>SUV</td>\n",
              "      <td>automatic</td>\n",
              "      <td>5xyktca69fg566472</td>\n",
              "      <td>ca</td>\n",
              "      <td>0.083333</td>\n",
              "      <td>0.016638</td>\n",
              "      <td>white</td>\n",
              "      <td>black</td>\n",
              "      <td>kia motors america  inc</td>\n",
              "      <td>0.137439</td>\n",
              "      <td>0.138772</td>\n",
              "      <td>Tue Dec 16 2014 12:30:00 GMT-0800 (PST)</td>\n",
              "    </tr>\n",
              "    <tr>\n",
              "      <th>1</th>\n",
              "      <td>1.000000</td>\n",
              "      <td>Kia</td>\n",
              "      <td>Sorento</td>\n",
              "      <td>LX</td>\n",
              "      <td>SUV</td>\n",
              "      <td>automatic</td>\n",
              "      <td>5xyktca69fg561319</td>\n",
              "      <td>ca</td>\n",
              "      <td>0.083333</td>\n",
              "      <td>0.009392</td>\n",
              "      <td>white</td>\n",
              "      <td>beige</td>\n",
              "      <td>kia motors america  inc</td>\n",
              "      <td>0.139453</td>\n",
              "      <td>0.138772</td>\n",
              "      <td>Tue Dec 16 2014 12:30:00 GMT-0800 (PST)</td>\n",
              "    </tr>\n",
              "    <tr>\n",
              "      <th>2</th>\n",
              "      <td>0.958333</td>\n",
              "      <td>BMW</td>\n",
              "      <td>3 Series</td>\n",
              "      <td>328i SULEV</td>\n",
              "      <td>Sedan</td>\n",
              "      <td>automatic</td>\n",
              "      <td>wba3c1c51ek116351</td>\n",
              "      <td>ca</td>\n",
              "      <td>0.916667</td>\n",
              "      <td>0.001330</td>\n",
              "      <td>gray</td>\n",
              "      <td>black</td>\n",
              "      <td>financial services remarketing (lease)</td>\n",
              "      <td>0.213962</td>\n",
              "      <td>0.194020</td>\n",
              "      <td>Thu Jan 15 2015 04:30:00 GMT-0800 (PST)</td>\n",
              "    </tr>\n",
              "    <tr>\n",
              "      <th>3</th>\n",
              "      <td>1.000000</td>\n",
              "      <td>Volvo</td>\n",
              "      <td>S60</td>\n",
              "      <td>T5</td>\n",
              "      <td>Sedan</td>\n",
              "      <td>automatic</td>\n",
              "      <td>yv1612tb4f1310987</td>\n",
              "      <td>ca</td>\n",
              "      <td>0.833333</td>\n",
              "      <td>0.014281</td>\n",
              "      <td>white</td>\n",
              "      <td>black</td>\n",
              "      <td>volvo na rep/world omni</td>\n",
              "      <td>0.184427</td>\n",
              "      <td>0.179396</td>\n",
              "      <td>Thu Jan 29 2015 04:30:00 GMT-0800 (PST)</td>\n",
              "    </tr>\n",
              "    <tr>\n",
              "      <th>4</th>\n",
              "      <td>0.958333</td>\n",
              "      <td>BMW</td>\n",
              "      <td>6 Series Gran Coupe</td>\n",
              "      <td>650i</td>\n",
              "      <td>Sedan</td>\n",
              "      <td>automatic</td>\n",
              "      <td>wba6b2c57ed129731</td>\n",
              "      <td>ca</td>\n",
              "      <td>0.875000</td>\n",
              "      <td>0.002640</td>\n",
              "      <td>gray</td>\n",
              "      <td>black</td>\n",
              "      <td>financial services remarketing (lease)</td>\n",
              "      <td>0.442860</td>\n",
              "      <td>0.434514</td>\n",
              "      <td>Thu Dec 18 2014 12:30:00 GMT-0800 (PST)</td>\n",
              "    </tr>\n",
              "  </tbody>\n",
              "</table>\n",
              "</div>\n",
              "    <div class=\"colab-df-buttons\">\n",
              "\n",
              "  <div class=\"colab-df-container\">\n",
              "    <button class=\"colab-df-convert\" onclick=\"convertToInteractive('df-25525a2d-b0ff-4792-a839-99cd1b78b60f')\"\n",
              "            title=\"Convert this dataframe to an interactive table.\"\n",
              "            style=\"display:none;\">\n",
              "\n",
              "  <svg xmlns=\"http://www.w3.org/2000/svg\" height=\"24px\" viewBox=\"0 -960 960 960\">\n",
              "    <path d=\"M120-120v-720h720v720H120Zm60-500h600v-160H180v160Zm220 220h160v-160H400v160Zm0 220h160v-160H400v160ZM180-400h160v-160H180v160Zm440 0h160v-160H620v160ZM180-180h160v-160H180v160Zm440 0h160v-160H620v160Z\"/>\n",
              "  </svg>\n",
              "    </button>\n",
              "\n",
              "  <style>\n",
              "    .colab-df-container {\n",
              "      display:flex;\n",
              "      gap: 12px;\n",
              "    }\n",
              "\n",
              "    .colab-df-convert {\n",
              "      background-color: #E8F0FE;\n",
              "      border: none;\n",
              "      border-radius: 50%;\n",
              "      cursor: pointer;\n",
              "      display: none;\n",
              "      fill: #1967D2;\n",
              "      height: 32px;\n",
              "      padding: 0 0 0 0;\n",
              "      width: 32px;\n",
              "    }\n",
              "\n",
              "    .colab-df-convert:hover {\n",
              "      background-color: #E2EBFA;\n",
              "      box-shadow: 0px 1px 2px rgba(60, 64, 67, 0.3), 0px 1px 3px 1px rgba(60, 64, 67, 0.15);\n",
              "      fill: #174EA6;\n",
              "    }\n",
              "\n",
              "    .colab-df-buttons div {\n",
              "      margin-bottom: 4px;\n",
              "    }\n",
              "\n",
              "    [theme=dark] .colab-df-convert {\n",
              "      background-color: #3B4455;\n",
              "      fill: #D2E3FC;\n",
              "    }\n",
              "\n",
              "    [theme=dark] .colab-df-convert:hover {\n",
              "      background-color: #434B5C;\n",
              "      box-shadow: 0px 1px 3px 1px rgba(0, 0, 0, 0.15);\n",
              "      filter: drop-shadow(0px 1px 2px rgba(0, 0, 0, 0.3));\n",
              "      fill: #FFFFFF;\n",
              "    }\n",
              "  </style>\n",
              "\n",
              "    <script>\n",
              "      const buttonEl =\n",
              "        document.querySelector('#df-25525a2d-b0ff-4792-a839-99cd1b78b60f button.colab-df-convert');\n",
              "      buttonEl.style.display =\n",
              "        google.colab.kernel.accessAllowed ? 'block' : 'none';\n",
              "\n",
              "      async function convertToInteractive(key) {\n",
              "        const element = document.querySelector('#df-25525a2d-b0ff-4792-a839-99cd1b78b60f');\n",
              "        const dataTable =\n",
              "          await google.colab.kernel.invokeFunction('convertToInteractive',\n",
              "                                                    [key], {});\n",
              "        if (!dataTable) return;\n",
              "\n",
              "        const docLinkHtml = 'Like what you see? Visit the ' +\n",
              "          '<a target=\"_blank\" href=https://colab.research.google.com/notebooks/data_table.ipynb>data table notebook</a>'\n",
              "          + ' to learn more about interactive tables.';\n",
              "        element.innerHTML = '';\n",
              "        dataTable['output_type'] = 'display_data';\n",
              "        await google.colab.output.renderOutput(dataTable, element);\n",
              "        const docLink = document.createElement('div');\n",
              "        docLink.innerHTML = docLinkHtml;\n",
              "        element.appendChild(docLink);\n",
              "      }\n",
              "    </script>\n",
              "  </div>\n",
              "\n",
              "\n",
              "<div id=\"df-ffafb84f-2547-4fd9-bab2-d45645a7cd48\">\n",
              "  <button class=\"colab-df-quickchart\" onclick=\"quickchart('df-ffafb84f-2547-4fd9-bab2-d45645a7cd48')\"\n",
              "            title=\"Suggest charts\"\n",
              "            style=\"display:none;\">\n",
              "\n",
              "<svg xmlns=\"http://www.w3.org/2000/svg\" height=\"24px\"viewBox=\"0 0 24 24\"\n",
              "     width=\"24px\">\n",
              "    <g>\n",
              "        <path d=\"M19 3H5c-1.1 0-2 .9-2 2v14c0 1.1.9 2 2 2h14c1.1 0 2-.9 2-2V5c0-1.1-.9-2-2-2zM9 17H7v-7h2v7zm4 0h-2V7h2v10zm4 0h-2v-4h2v4z\"/>\n",
              "    </g>\n",
              "</svg>\n",
              "  </button>\n",
              "\n",
              "<style>\n",
              "  .colab-df-quickchart {\n",
              "      --bg-color: #E8F0FE;\n",
              "      --fill-color: #1967D2;\n",
              "      --hover-bg-color: #E2EBFA;\n",
              "      --hover-fill-color: #174EA6;\n",
              "      --disabled-fill-color: #AAA;\n",
              "      --disabled-bg-color: #DDD;\n",
              "  }\n",
              "\n",
              "  [theme=dark] .colab-df-quickchart {\n",
              "      --bg-color: #3B4455;\n",
              "      --fill-color: #D2E3FC;\n",
              "      --hover-bg-color: #434B5C;\n",
              "      --hover-fill-color: #FFFFFF;\n",
              "      --disabled-bg-color: #3B4455;\n",
              "      --disabled-fill-color: #666;\n",
              "  }\n",
              "\n",
              "  .colab-df-quickchart {\n",
              "    background-color: var(--bg-color);\n",
              "    border: none;\n",
              "    border-radius: 50%;\n",
              "    cursor: pointer;\n",
              "    display: none;\n",
              "    fill: var(--fill-color);\n",
              "    height: 32px;\n",
              "    padding: 0;\n",
              "    width: 32px;\n",
              "  }\n",
              "\n",
              "  .colab-df-quickchart:hover {\n",
              "    background-color: var(--hover-bg-color);\n",
              "    box-shadow: 0 1px 2px rgba(60, 64, 67, 0.3), 0 1px 3px 1px rgba(60, 64, 67, 0.15);\n",
              "    fill: var(--button-hover-fill-color);\n",
              "  }\n",
              "\n",
              "  .colab-df-quickchart-complete:disabled,\n",
              "  .colab-df-quickchart-complete:disabled:hover {\n",
              "    background-color: var(--disabled-bg-color);\n",
              "    fill: var(--disabled-fill-color);\n",
              "    box-shadow: none;\n",
              "  }\n",
              "\n",
              "  .colab-df-spinner {\n",
              "    border: 2px solid var(--fill-color);\n",
              "    border-color: transparent;\n",
              "    border-bottom-color: var(--fill-color);\n",
              "    animation:\n",
              "      spin 1s steps(1) infinite;\n",
              "  }\n",
              "\n",
              "  @keyframes spin {\n",
              "    0% {\n",
              "      border-color: transparent;\n",
              "      border-bottom-color: var(--fill-color);\n",
              "      border-left-color: var(--fill-color);\n",
              "    }\n",
              "    20% {\n",
              "      border-color: transparent;\n",
              "      border-left-color: var(--fill-color);\n",
              "      border-top-color: var(--fill-color);\n",
              "    }\n",
              "    30% {\n",
              "      border-color: transparent;\n",
              "      border-left-color: var(--fill-color);\n",
              "      border-top-color: var(--fill-color);\n",
              "      border-right-color: var(--fill-color);\n",
              "    }\n",
              "    40% {\n",
              "      border-color: transparent;\n",
              "      border-right-color: var(--fill-color);\n",
              "      border-top-color: var(--fill-color);\n",
              "    }\n",
              "    60% {\n",
              "      border-color: transparent;\n",
              "      border-right-color: var(--fill-color);\n",
              "    }\n",
              "    80% {\n",
              "      border-color: transparent;\n",
              "      border-right-color: var(--fill-color);\n",
              "      border-bottom-color: var(--fill-color);\n",
              "    }\n",
              "    90% {\n",
              "      border-color: transparent;\n",
              "      border-bottom-color: var(--fill-color);\n",
              "    }\n",
              "  }\n",
              "</style>\n",
              "\n",
              "  <script>\n",
              "    async function quickchart(key) {\n",
              "      const quickchartButtonEl =\n",
              "        document.querySelector('#' + key + ' button');\n",
              "      quickchartButtonEl.disabled = true;  // To prevent multiple clicks.\n",
              "      quickchartButtonEl.classList.add('colab-df-spinner');\n",
              "      try {\n",
              "        const charts = await google.colab.kernel.invokeFunction(\n",
              "            'suggestCharts', [key], {});\n",
              "      } catch (error) {\n",
              "        console.error('Error during call to suggestCharts:', error);\n",
              "      }\n",
              "      quickchartButtonEl.classList.remove('colab-df-spinner');\n",
              "      quickchartButtonEl.classList.add('colab-df-quickchart-complete');\n",
              "    }\n",
              "    (() => {\n",
              "      let quickchartButtonEl =\n",
              "        document.querySelector('#df-ffafb84f-2547-4fd9-bab2-d45645a7cd48 button');\n",
              "      quickchartButtonEl.style.display =\n",
              "        google.colab.kernel.accessAllowed ? 'block' : 'none';\n",
              "    })();\n",
              "  </script>\n",
              "</div>\n",
              "\n",
              "    </div>\n",
              "  </div>\n"
            ],
            "application/vnd.google.colaboratory.intrinsic+json": {
              "type": "dataframe",
              "variable_name": "data",
              "repr_error": "'str' object has no attribute 'empty'"
            }
          },
          "metadata": {},
          "execution_count": 11
        }
      ]
    },
    {
      "cell_type": "markdown",
      "source": [
        "# 3:Data visualization"
      ],
      "metadata": {
        "id": "vtX3twp4nJUv"
      }
    },
    {
      "cell_type": "markdown",
      "source": [
        "### **box blot**"
      ],
      "metadata": {
        "id": "iwr3fKSip4Tc"
      }
    },
    {
      "cell_type": "code",
      "source": [
        "\n",
        "import seaborn as sns\n",
        "\n",
        "# Creating a boxplot for the numerical columns\n",
        "plt.figure(figsize=(12, 6))\n",
        "sns.boxplot(data=data[numerical_cols])\n",
        "plt.title('Box Plot of Numerical Columns')\n",
        "plt.xticks(rotation=45)  # Rotate the x-axis labels for better readability\n",
        "plt.show()"
      ],
      "metadata": {
        "colab": {
          "base_uri": "https://localhost:8080/",
          "height": 597
        },
        "id": "DUxTGJBUnNUq",
        "outputId": "43d51d22-acfc-4fdc-e07e-d0872ed5568f"
      },
      "execution_count": null,
      "outputs": [
        {
          "output_type": "display_data",
          "data": {
            "text/plain": [
              "<Figure size 1200x600 with 1 Axes>"
            ],
            "image/png": "[encoded data removed]"
          },
          "metadata": {}
        }
      ]
    },
    {
      "cell_type": "markdown",
      "source": [
        "### **pairplot**"
      ],
      "metadata": {
        "id": "WAnXdvhup-NS"
      }
    },
    {
      "cell_type": "code",
      "source": [
        "sns.pairplot(data, vars=['year', 'condition', 'odometer'])\n",
        "plt.show()"
      ],
      "metadata": {
        "colab": {
          "base_uri": "https://localhost:8080/",
          "height": 758
        },
        "id": "_f1qMzx3qEjq",
        "outputId": "b1bb0a26-ff94-458b-f814-15e541a50551"
      },
      "execution_count": null,
      "outputs": [
        {
          "output_type": "display_data",
          "data": {
            "text/plain": [
              "<Figure size 750x750 with 12 Axes>"
            ],
            "image/png": "[encoded data removed]"
          },
          "metadata": {}
        }
      ]
    },
    {
      "cell_type": "markdown",
      "source": [
        "### **scatter plot**"
      ],
      "metadata": {
        "id": "tL9DvRWLyTt4"
      }
    },
    {
      "cell_type": "code",
      "source": [
        "\n",
        "plt.scatter(data['odometer'], data['year'], marker='x')\n",
        "plt.xlabel('Odometer')\n",
        "plt.ylabel('Year')\n",
        "plt.show()\n"
      ],
      "metadata": {
        "colab": {
          "base_uri": "https://localhost:8080/",
          "height": 449
        },
        "id": "EksA8qjkuh5U",
        "outputId": "5310c99e-c060-4acc-f663-8764e160d21e"
      },
      "execution_count": null,
      "outputs": [
        {
          "output_type": "display_data",
          "data": {
            "text/plain": [
              "<Figure size 640x480 with 1 Axes>"
            ],
            "image/png": "[encoded data removed]"
          },
          "metadata": {}
        }
      ]
    },
    {
      "cell_type": "code",
      "source": [
        "plt.scatter(data['condition'], data['year'], marker='x')\n",
        "plt.xlabel('Year')\n",
        "plt.ylabel('condition')\n",
        "plt.show()"
      ],
      "metadata": {
        "colab": {
          "base_uri": "https://localhost:8080/",
          "height": 449
        },
        "id": "VwBeRx4fxiUA",
        "outputId": "faf8cb10-cffc-405e-f050-f8c6a730ee61"
      },
      "execution_count": null,
      "outputs": [
        {
          "output_type": "display_data",
          "data": {
            "text/plain": [
              "<Figure size 640x480 with 1 Axes>"
            ],
            "image/png": "[encoded data removed]"
          },
          "metadata": {}
        }
      ]
    },
    {
      "cell_type": "markdown",
      "source": [
        "# Modeling"
      ],
      "metadata": {
        "id": "QNj6tarV2NCW"
      }
    },
    {
      "cell_type": "markdown",
      "source": [
        "### **Split the data**"
      ],
      "metadata": {
        "id": "hvdHWe9L2ZHx"
      }
    },
    {
      "cell_type": "code",
      "source": [
        "from sklearn.linear_model import LinearRegression\n",
        "from sklearn.metrics import mean_absolute_error, mean_squared_error, r2_score\n",
        "from sklearn.model_selection import train_test_split\n",
        "\n",
        "\n",
        "# split the data into features (x) and target variable (y)\n",
        "X = data.drop('sellingprice', axis=1)\n",
        "Y = data['sellingprice']\n",
        "\n",
        "#split the data into training and test sets\n",
        "x_train , x_test , y_train , y_test = train_test_split(x , y , test_size=0.2, random_state=42)\n",
        "\n",
        "#linear Regrassion model\n",
        "lr = LinearRegression()\n",
        "\n"
      ],
      "metadata": {
        "id": "3Vv6QGs52j-L"
      },
      "execution_count": null,
      "outputs": []
    },
    {
      "cell_type": "markdown",
      "source": [
        "### **Part2**"
      ],
      "metadata": {
        "id": "A5HX6qpy-s8z"
      }
    },
    {
      "cell_type": "markdown",
      "source": [
        "1:Loop: Question: Write a Python program that uses a 'for' loop to print all even numbers from 1 to 10. Then, use 'while' loop"
      ],
      "metadata": {
        "id": "xg_vyJOM-yTV"
      }
    },
    {
      "cell_type": "code",
      "source": [
        "number = 1  # Start from 1\n",
        "\n",
        "while number <= 10:  # Loop until 10\n",
        "    if number % 2 == 0:  # Check if the number is even\n",
        "        print(number)    # Print the even number\n",
        "    number += 1  # Increment the number by 1"
      ],
      "metadata": {
        "colab": {
          "base_uri": "https://localhost:8080/"
        },
        "id": "uF3IM-5I_4Mk",
        "outputId": "4b83e8ae-0234-425d-93f3-201f56314be9"
      },
      "execution_count": null,
      "outputs": [
        {
          "output_type": "stream",
          "name": "stdout",
          "text": [
            "2\n",
            "4\n",
            "6\n",
            "8\n",
            "10\n"
          ]
        }
      ]
    },
    {
      "cell_type": "markdown",
      "source": [
        "2:\n",
        "    Control Flows: Question: Create a Python function named grade_classifier that takes a student's score as an argument and returns a string indicating their grade. Use the following criteria:\n",
        "\n",
        "Score >= 90: \"A\" 80 <= Score < 90: \"B\" 70 <= Score < 80: \"C\" 60 <= Score < 70: \"D\" Score < 60: \"F"
      ],
      "metadata": {
        "id": "DXnQg4Vm-6aA"
      }
    },
    {
      "cell_type": "code",
      "source": [
        "def grade_classifier(score):\n",
        "    if score >= 90:\n",
        "        return \"A\"\n",
        "    elif 80 <= score < 90:\n",
        "        return \"B\"\n",
        "    elif 70 <= score < 80:\n",
        "        return \"C\"\n",
        "    elif 60 <= score < 70:\n",
        "        return \"D\"\n",
        "    else:\n",
        "        return \"F\"\n",
        "\n",
        "# Example usage\n",
        "print(grade_classifier(95))  # Should return \"A\"\n",
        "print(grade_classifier(85))  # Should return \"B\"\n",
        "print(grade_classifier(75))  # Should return \"C\"\n",
        "print(grade_classifier(65))  # Should return \"D\"\n",
        "print(grade_classifier(55))  # Should return \"F\"\n"
      ],
      "metadata": {
        "colab": {
          "base_uri": "https://localhost:8080/"
        },
        "id": "3a7A_0rC_ysj",
        "outputId": "7b552cc5-dd11-48c2-9353-36e88aa9d636"
      },
      "execution_count": null,
      "outputs": [
        {
          "output_type": "stream",
          "name": "stdout",
          "text": [
            "A\n",
            "B\n",
            "C\n",
            "D\n",
            "F\n"
          ]
        }
      ]
    },
    {
      "cell_type": "markdown",
      "source": [
        "3:If Conditions: Question: Write a Python program that prompts the user to enter their age. Use if-elif-else statements to categorize and print the user's age group as follows:\n",
        "\n",
        "If the age is less than 13, print \"Child.\" If the age is between 13 and 19 (inclusive), print \"Teenager.\" If the age is between 20 and 59 (inclusive), print \"Adult.\" If the age is 60 or older, print \"Senior Citizen.\"\n"
      ],
      "metadata": {
        "id": "SEGsK5_Y_kyB"
      }
    },
    {
      "cell_type": "code",
      "source": [
        "# Prompt the user to enter their age\n",
        "age = int(input(\"Please enter your age: \"))\n",
        "\n",
        "# Use if-elif-else statements to categorize and print the user's age group\n",
        "if age < 13:\n",
        "    print(\"Child.\")\n",
        "elif 13 <= age <= 19:\n",
        "    print(\"Teenager.\")\n",
        "elif 20 <= age <= 59:\n",
        "    print(\"Adult.\")\n",
        "else:\n",
        "    print(\"Senior Citizen.\")"
      ],
      "metadata": {
        "id": "jjLc6SkgAzvx",
        "colab": {
          "base_uri": "https://localhost:8080/"
        },
        "outputId": "e9132cd8-902c-4e0d-fa9e-649af1d9c386"
      },
      "execution_count": null,
      "outputs": [
        {
          "output_type": "stream",
          "name": "stdout",
          "text": [
            "Please enter your age: 11\n",
            "Child.\n"
          ]
        }
      ]
    },
    {
      "cell_type": "markdown",
      "source": [
        "4:Functions: Question: Define a Python function named multiply_numbers that takes two parameters (num1 and num2) and returns their product. Test the function with values 5 and 7."
      ],
      "metadata": {
        "id": "V4gCIo70___W"
      }
    },
    {
      "cell_type": "code",
      "source": [
        "def multiply_numbers(num1, num2):\n",
        "    return num1 * num2\n",
        "\n",
        "# Testing the function with values 5 and 7\n",
        "result = multiply_numbers(5, 7)\n",
        "print(result)\n"
      ],
      "metadata": {
        "id": "M9LOmalCBI2G",
        "colab": {
          "base_uri": "https://localhost:8080/"
        },
        "outputId": "cd9618a4-a98b-4f7e-d063-fb436e519ba8"
      },
      "execution_count": null,
      "outputs": [
        {
          "output_type": "stream",
          "name": "stdout",
          "text": [
            "35\n"
          ]
        }
      ]
    },
    {
      "cell_type": "markdown",
      "source": [
        "5: Write a Python program that does the following:\n",
        "\n",
        "Prompts the user to enter a number (user_num). Uses a loop to print all numbers from 1 to user_num (inclusive) that are divisible by 3"
      ],
      "metadata": {
        "id": "dpylQT0DAJI4"
      }
    },
    {
      "cell_type": "code",
      "source": [
        "\n",
        "\n",
        "# Prompt the user to enter a number\n",
        "user_num = int(input(\"Please enter a number: \"))\n",
        "\n",
        "# Use a loop to print numbers from 1 to user_num (inclusive) that are divisible by 3\n",
        "for i in range(1, user_num + 1):\n",
        "    if i % 3 == 0:\n",
        "        print(i)\n"
      ],
      "metadata": {
        "id": "C5YnwUbfCuMe",
        "colab": {
          "base_uri": "https://localhost:8080/"
        },
        "outputId": "82caba25-674a-4424-e804-609915e2c869"
      },
      "execution_count": null,
      "outputs": [
        {
          "output_type": "stream",
          "name": "stdout",
          "text": [
            "Please enter a number: 15\n",
            "3\n",
            "6\n",
            "9\n",
            "12\n",
            "15\n"
          ]
        }
      ]
    }
  ]
}